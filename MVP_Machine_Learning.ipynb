{
  "nbformat": 4,
  "nbformat_minor": 0,
  "metadata": {
    "colab": {
      "provenance": [],
      "authorship_tag": "ABX9TyPMD2xo82ZT4ol8FDFv2j8h",
      "include_colab_link": true
    },
    "kernelspec": {
      "name": "python3",
      "display_name": "Python 3"
    },
    "language_info": {
      "name": "python"
    }
  },
  "cells": [
    {
      "cell_type": "markdown",
      "metadata": {
        "id": "view-in-github",
        "colab_type": "text"
      },
      "source": [
        "<a href=\"https://colab.research.google.com/github/Lfagundesnetto/MVP_MachineLearning/blob/main/MVP_Machine_Learning.ipynb\" target=\"_parent\"><img src=\"https://colab.research.google.com/assets/colab-badge.svg\" alt=\"Open In Colab\"/></a>"
      ]
    },
    {
      "cell_type": "markdown",
      "source": [
        "\n",
        "# PUC-RIO - SPRINT: MACHINE LEARNING & ANALYTICS\n",
        "\n",
        "## **MVP: Análise do Desempenho Estudantil**\n",
        "\n",
        "### Leticia Fagundes Netto"
      ],
      "metadata": {
        "id": "iCG6slBzs-JI"
      }
    },
    {
      "cell_type": "markdown",
      "source": [
        "# **Objetivo**\n"
      ],
      "metadata": {
        "id": "0MMX9i-qtyyQ"
      }
    },
    {
      "cell_type": "markdown",
      "source": [
        "O objetivo deste estudo é analisar os fatores que influenciam o desempenho estudantil, considerando variáveis como características demográficas, frequência escolar e atividades extracurriculares. Além disso, o trabalho busca prever se o(a) aluno(a) será aprovado(a) ou reprovado(a), bem como estimar sua nota final ou situação acadêmica, utilizando técnicas de machine learning para identificar padrões e insights relevantes."
      ],
      "metadata": {
        "id": "Q0onr7sL1hhl"
      }
    },
    {
      "cell_type": "markdown",
      "source": [
        "# **Descrição do Dataset**"
      ],
      "metadata": {
        "id": "OJcHhNg16CJl"
      }
    },
    {
      "cell_type": "markdown",
      "source": [
        "Link para o Dataset Original: [Student Performance](https://archive.ics.uci.edu/dataset/320/student+performance)"
      ],
      "metadata": {
        "id": "6l9bVFdx6N6e"
      }
    },
    {
      "cell_type": "markdown",
      "source": [
        "**O Dataset**: Dois conjuntos de dados sobre o desempenho escolar de alunos (de escolas secundárias) em Matemática e Língua Portuguesa. Cada registro contem informações demográficas, educacionais e comportamentais por aluno, assim como suas notas."
      ],
      "metadata": {
        "id": "TlXyHufG95Ge"
      }
    },
    {
      "cell_type": "markdown",
      "source": [
        "# **Processamento, Tratamento e Exploração dos Dados**"
      ],
      "metadata": {
        "id": "LNPGnKb06h4A"
      }
    },
    {
      "cell_type": "markdown",
      "source": [
        "## Importação dos Dados"
      ],
      "metadata": {
        "id": "oX1-uyHa6h0i"
      }
    },
    {
      "cell_type": "code",
      "source": [],
      "metadata": {
        "id": "htyFHMVf6PK6"
      },
      "execution_count": null,
      "outputs": []
    },
    {
      "cell_type": "markdown",
      "source": [
        "## Tratamento de Dados"
      ],
      "metadata": {
        "id": "_kJA6EGX6htL"
      }
    },
    {
      "cell_type": "code",
      "source": [],
      "metadata": {
        "id": "cM6XIKse7H4h"
      },
      "execution_count": null,
      "outputs": []
    },
    {
      "cell_type": "markdown",
      "source": [
        "## Análise Exploratória"
      ],
      "metadata": {
        "id": "nqQhUnTH7IRq"
      }
    },
    {
      "cell_type": "code",
      "source": [],
      "metadata": {
        "id": "naENRUVE7Ki4"
      },
      "execution_count": null,
      "outputs": []
    },
    {
      "cell_type": "markdown",
      "source": [
        "# **Classificação**"
      ],
      "metadata": {
        "id": "qR8itejF7Tqr"
      }
    },
    {
      "cell_type": "markdown",
      "source": [
        "## Preparação dos Dados"
      ],
      "metadata": {
        "id": "1gRQMSOv7dOd"
      }
    },
    {
      "cell_type": "code",
      "source": [],
      "metadata": {
        "id": "u8OtKmCh7mJ3"
      },
      "execution_count": null,
      "outputs": []
    },
    {
      "cell_type": "markdown",
      "source": [
        "## Modelo de Classificação"
      ],
      "metadata": {
        "id": "As0haCF27Wwz"
      }
    },
    {
      "cell_type": "code",
      "source": [],
      "metadata": {
        "id": "1mluPPD_8HMz"
      },
      "execution_count": null,
      "outputs": []
    },
    {
      "cell_type": "markdown",
      "source": [
        "## Métricas de Avaliação"
      ],
      "metadata": {
        "id": "WpV9HolQ8BsC"
      }
    },
    {
      "cell_type": "code",
      "source": [],
      "metadata": {
        "id": "iTz9Fkcs8Ghn"
      },
      "execution_count": null,
      "outputs": []
    },
    {
      "cell_type": "markdown",
      "source": [
        "# **Regressão**"
      ],
      "metadata": {
        "id": "yO5JeN5G8Sda"
      }
    },
    {
      "cell_type": "markdown",
      "source": [
        "## Preparação dos Dados"
      ],
      "metadata": {
        "id": "XX_KnElw8Wrv"
      }
    },
    {
      "cell_type": "code",
      "source": [],
      "metadata": {
        "id": "kmKOyJPp8lpj"
      },
      "execution_count": null,
      "outputs": []
    },
    {
      "cell_type": "markdown",
      "source": [
        "## Modelo de Regressão"
      ],
      "metadata": {
        "id": "cB_T2f9X8bms"
      }
    },
    {
      "cell_type": "code",
      "source": [],
      "metadata": {
        "id": "Z-ufzazV8mDx"
      },
      "execution_count": null,
      "outputs": []
    },
    {
      "cell_type": "markdown",
      "source": [
        "## Métricas de Avaliação"
      ],
      "metadata": {
        "id": "5PwE0-SG8guJ"
      }
    },
    {
      "cell_type": "code",
      "source": [],
      "metadata": {
        "id": "F6yrAsth8mjK"
      },
      "execution_count": null,
      "outputs": []
    },
    {
      "cell_type": "markdown",
      "source": [
        "# **Resultados**"
      ],
      "metadata": {
        "id": "-iHiNzRU8vHL"
      }
    },
    {
      "cell_type": "markdown",
      "source": [
        "## Classificação"
      ],
      "metadata": {
        "id": "K4Yvd14Z83yc"
      }
    },
    {
      "cell_type": "markdown",
      "source": [],
      "metadata": {
        "id": "tzPDtz5q89B2"
      }
    },
    {
      "cell_type": "markdown",
      "source": [
        "## Regressão"
      ],
      "metadata": {
        "id": "UjVR628t80Lc"
      }
    },
    {
      "cell_type": "markdown",
      "source": [],
      "metadata": {
        "id": "NO1Scxk889cT"
      }
    },
    {
      "cell_type": "markdown",
      "source": [
        "# **Conclusão**"
      ],
      "metadata": {
        "id": "KsaM3YIa9Cai"
      }
    }
  ]
}